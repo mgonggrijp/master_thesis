{
 "cells": [
  {
   "cell_type": "code",
   "execution_count": 376,
   "id": "672556d6",
   "metadata": {},
   "outputs": [
    {
     "ename": "ModuleNotFoundError",
     "evalue": "No module named 'tensorflow'",
     "output_type": "error",
     "traceback": [
      "\u001b[0;31m---------------------------------------------------------------------------\u001b[0m",
      "\u001b[0;31mModuleNotFoundError\u001b[0m                       Traceback (most recent call last)",
      "Cell \u001b[0;32mIn[376], line 5\u001b[0m\n\u001b[1;32m      3\u001b[0m \u001b[38;5;28;01mfrom\u001b[39;00m \u001b[38;5;21;01mtorch\u001b[39;00m\u001b[38;5;21;01m.\u001b[39;00m\u001b[38;5;21;01mnn\u001b[39;00m\u001b[38;5;21;01m.\u001b[39;00m\u001b[38;5;21;01mfunctional\u001b[39;00m \u001b[38;5;28;01mimport\u001b[39;00m conv2d, normalize\n\u001b[1;32m      4\u001b[0m \u001b[38;5;28;01mfrom\u001b[39;00m \u001b[38;5;21;01mtorch\u001b[39;00m \u001b[38;5;28;01mimport\u001b[39;00m sqrt\n\u001b[0;32m----> 5\u001b[0m \u001b[38;5;28;01mimport\u001b[39;00m \u001b[38;5;21;01mtensorflow\u001b[39;00m\n",
      "\u001b[0;31mModuleNotFoundError\u001b[0m: No module named 'tensorflow'"
     ]
    }
   ],
   "source": [
    "import torch\n",
    "import geoopt\n",
    "from torch.nn.functional import conv2d, normalize\n",
    "from torch import sqrt\n",
    "import tensorflow"
   ]
  },
  {
   "cell_type": "code",
   "execution_count": 188,
   "id": "6267fff3",
   "metadata": {},
   "outputs": [],
   "source": [
    "pcb = geoopt.manifolds.PoincareBall(\n",
    "            c=1.)\n",
    "\n",
    "x = geoopt.ManifoldTensor(\n",
    "    torch.zeros(10, ),\n",
    "    manifold=pcb,\n",
    "    requires_grad=True)\n",
    "\n",
    "y = torch.ones(10, ) * 3\n",
    "\n"
   ]
  },
  {
   "cell_type": "code",
   "execution_count": 200,
   "id": "ae38dd37",
   "metadata": {},
   "outputs": [],
   "source": [
    "def torch_sqnorm(u: torch.Tensor, keepdims: bool = True, dim: int = 1) -> torch.Tensor:\n",
    "    \"\"\" calculate vector norms over given axis \"\"\"\n",
    "    return torch.sum(u * u, dim=dim, keepdims=keepdims)\n",
    "\n",
    "def torch_cross_correlate(inputs: torch.Tensor, filters: torch.Tensor) -> torch.Tensor:\n",
    "    return conv2d(inputs, weight=filters, stride=(1, 1), padding='same')"
   ]
  },
  {
   "cell_type": "code",
   "execution_count": 373,
   "id": "4ab4c1c8",
   "metadata": {},
   "outputs": [],
   "source": [
    "EPS = 1e-15\n",
    "PROJ_EPS = 1e-3\n",
    "\n",
    "\n",
    "def torch_hyp_mlr(inputs: torch.Tensor, c: torch.Tensor, P_mlr: torch.Tensor, A_mlr: torch.Tensor) -> torch.Tensor:\n",
    "    \"\"\" Perform hyperbolic MLR to calculate the class probabilies of inputs based on their \n",
    "    similarity to the parameters defining the class hyperplanes. The number of classes is\n",
    "    for the full hierarchy.\n",
    "    \n",
    "    args:\n",
    "        inputs: shape (B, ch, H, W) embeddding model outputs.\n",
    "        P_mlr: shape (ncls, ch) class hyperplane offsets\n",
    "        A_mlr: shape (ncls, ch) class hyperplane normals\n",
    "        \n",
    "    returns:\n",
    "        logits: shape (batch, num_classes, height_width)  \"\"\"\n",
    "    \n",
    "    xx = torch_sqnorm(inputs, keepdims=False)  \n",
    "    \n",
    "    pp = torch_sqnorm(-P_mlr, keepdims=False, dim=0)  \n",
    "    \n",
    "    P_kernel = -P_mlr.T[:, :, None, None]\n",
    "    \n",
    "    px = torch_cross_correlate(inputs, filters=P_kernel)  \n",
    "    \n",
    "    return px.shape\n",
    "    \n",
    "    sqsq = torch.multiply(\n",
    "        c * xx, c * pp[None, :, None, None])  \n",
    "    \n",
    "    A_norm = torch.linalg.norm(A_mlr, dim=0)  \n",
    "    \n",
    "    normed_A = normalize(A_mlr, dim=0)\n",
    "    \n",
    "    A_kernel = torch.transpose(normed_A, 0, 1)[:, :, None, None]\n",
    "    \n",
    "    A = 1 + torch.add(2 * c * px, c * xx) \n",
    "    \n",
    "    B = 1. - c * pp  \n",
    "    \n",
    "    D = 1 + torch.add(2 * c * px, sqsq)  \n",
    "    \n",
    "    D = torch.maximum(D, torch.full(D.shape, EPS, device=inputs.device))\n",
    "    \n",
    "    alpha = A / D  \n",
    "    \n",
    "    beta = B[None, :, None, None] / D  \n",
    "    \n",
    "    mobaddnorm = ((alpha ** 2 * pp[None, :, None, None]) +\n",
    "                  (beta ** 2 * xx) + (2 * alpha * beta * px))\n",
    "    \n",
    "    maxnorm = (1.0 - PROJ_EPS) / sqrt(c)\n",
    "    \n",
    "  \n",
    "    check = torch.sqrt(mobaddnorm) > maxnorm\n",
    "    if_true = maxnorm / \\\n",
    "        torch.maximum(torch.sqrt(mobaddnorm),\n",
    "                      torch.full(mobaddnorm.shape, EPS, device=inputs.device))\n",
    "    \n",
    "    if_false = torch.ones_like(mobaddnorm, device=inputs.device)\n",
    "    \n",
    "    project_normalized = torch.zeros_like(mobaddnorm, device=inputs.device)\n",
    "    \n",
    "    project_normalized[check] = if_true[check]\n",
    "    \n",
    "    project_normalized[~check] = if_false[~check]\n",
    "    \n",
    "    check = torch.sqrt(mobaddnorm) < maxnorm\n",
    "    \n",
    "    if_false = torch.ones_like(mobaddnorm, device=inputs.device) * maxnorm ** 2\n",
    "    \n",
    "    mobaddnormprojected = torch.zeros_like(mobaddnorm, device=inputs.device)\n",
    "    \n",
    "    mobaddnormprojected[check] = mobaddnorm[check]\n",
    "    \n",
    "    mobaddnormprojected[~check] = if_false[~check]\n",
    "    \n",
    "    xdota = beta * torch_cross_correlate(inputs, filters=A_kernel)\n",
    "    \n",
    "    pdota = (alpha * torch.sum(-P_mlr * normed_A, dim=0)[None, :, None, None])\n",
    "    \n",
    "    mobdota = xdota + pdota  \n",
    "    \n",
    "    mobdota *= project_normalized  \n",
    "    \n",
    "    lamb_px = 2.0 / torch.maximum(\n",
    "        1. - c * mobaddnormprojected,\n",
    "        torch.tensor(EPS, device=inputs.device))\n",
    "    \n",
    "    \n",
    "    sineterm = sqrt(c) * mobdota * lamb_px\n",
    "    \n",
    "    return 2.0 / sqrt(c) * A_norm.view(1, -1, 1, 1) * torch.asinh(sineterm)"
   ]
  },
  {
   "cell_type": "code",
   "execution_count": 374,
   "id": "dce7ca88",
   "metadata": {},
   "outputs": [
    {
     "name": "stdout",
     "output_type": "stream",
     "text": [
      "tensor([[0.3093, 0.8054, 0.0877, 0.6038, 0.8264],\n",
      "        [0.4499, 0.4868, 0.8578, 0.0964, 0.1782]], requires_grad=True) torch.Size([2, 5]) \n",
      "\n",
      "----------------\n"
     ]
    }
   ],
   "source": [
    "ch = 5\n",
    "ncls = 2\n",
    "h, w = 5, 5\n",
    "batch = 2\n",
    "\n",
    "\n",
    "embs  = torch.rand(batch, dim, h, w, requires_grad=True)\n",
    "P_mlr = torch.rand(ncls, ch, requires_grad=True)\n",
    "A_mlr = torch.rand(ncls, ch, requires_grad=True)\n",
    "\n",
    "print(P_mlr, P_mlr.shape, '\\n\\n----------------')\n",
    "\n",
    "P_mlr = geoopt.ManifoldTensor(\n",
    "    P_mlr,\n",
    "    manifold=pcb,\n",
    "    requires_grad=True)\n",
    "\n",
    "hyperbolic_optimizer = geoopt.optim.rsgd.RiemannianSGD(\n",
    "            [P_mlr], # offsets are in hyperbolic space\n",
    "            lr=0.01,\n",
    "            momentum=0.997,\n",
    "            weight_decay=0.997,\n",
    "            stabilize=1)\n",
    "\n",
    "c = torch.tensor(1.)"
   ]
  },
  {
   "cell_type": "code",
   "execution_count": 375,
   "id": "bfd5370e",
   "metadata": {},
   "outputs": [
    {
     "ename": "RuntimeError",
     "evalue": "Given groups=1, weight of size [5, 2, 1, 1], expected input[2, 3, 5, 5] to have 2 channels, but got 3 channels instead",
     "output_type": "error",
     "traceback": [
      "\u001b[0;31m---------------------------------------------------------------------------\u001b[0m",
      "\u001b[0;31mRuntimeError\u001b[0m                              Traceback (most recent call last)",
      "Cell \u001b[0;32mIn[375], line 1\u001b[0m\n\u001b[0;32m----> 1\u001b[0m \u001b[43mtorch_hyp_mlr\u001b[49m\u001b[43m(\u001b[49m\u001b[43membs\u001b[49m\u001b[43m,\u001b[49m\u001b[43m \u001b[49m\u001b[43mc\u001b[49m\u001b[43m,\u001b[49m\u001b[43m \u001b[49m\u001b[43mP_mlr\u001b[49m\u001b[43m,\u001b[49m\u001b[43m \u001b[49m\u001b[43mA_mlr\u001b[49m\u001b[43m,\u001b[49m\u001b[43m \u001b[49m\u001b[43m)\u001b[49m\n",
      "Cell \u001b[0;32mIn[373], line 22\u001b[0m, in \u001b[0;36mtorch_hyp_mlr\u001b[0;34m(inputs, c, P_mlr, A_mlr)\u001b[0m\n\u001b[1;32m     18\u001b[0m pp \u001b[38;5;241m=\u001b[39m torch_sqnorm(\u001b[38;5;241m-\u001b[39mP_mlr, keepdims\u001b[38;5;241m=\u001b[39m\u001b[38;5;28;01mFalse\u001b[39;00m, dim\u001b[38;5;241m=\u001b[39m\u001b[38;5;241m0\u001b[39m)  \u001b[38;5;66;03m# shape [ch]\u001b[39;00m\n\u001b[1;32m     20\u001b[0m P_kernel \u001b[38;5;241m=\u001b[39m \u001b[38;5;241m-\u001b[39mP_mlr\u001b[38;5;241m.\u001b[39mT[:, :, \u001b[38;5;28;01mNone\u001b[39;00m, \u001b[38;5;28;01mNone\u001b[39;00m]\n\u001b[0;32m---> 22\u001b[0m px \u001b[38;5;241m=\u001b[39m \u001b[43mtorch_cross_correlate\u001b[49m\u001b[43m(\u001b[49m\u001b[43minputs\u001b[49m\u001b[43m,\u001b[49m\u001b[43m \u001b[49m\u001b[43mfilters\u001b[49m\u001b[38;5;241;43m=\u001b[39;49m\u001b[43mP_kernel\u001b[49m\u001b[43m)\u001b[49m  \u001b[38;5;66;03m# shape (B, D, H, W)\u001b[39;00m\n\u001b[1;32m     24\u001b[0m \u001b[38;5;28;01mreturn\u001b[39;00m px\u001b[38;5;241m.\u001b[39mshape\n\u001b[1;32m     26\u001b[0m sqsq \u001b[38;5;241m=\u001b[39m torch\u001b[38;5;241m.\u001b[39mmultiply(\n\u001b[1;32m     27\u001b[0m     c \u001b[38;5;241m*\u001b[39m xx, c \u001b[38;5;241m*\u001b[39m pp[\u001b[38;5;28;01mNone\u001b[39;00m, :, \u001b[38;5;28;01mNone\u001b[39;00m, \u001b[38;5;28;01mNone\u001b[39;00m])  \u001b[38;5;66;03m# shape B, D, H, W\u001b[39;00m\n",
      "Cell \u001b[0;32mIn[200], line 6\u001b[0m, in \u001b[0;36mtorch_cross_correlate\u001b[0;34m(inputs, filters)\u001b[0m\n\u001b[1;32m      5\u001b[0m \u001b[38;5;28;01mdef\u001b[39;00m \u001b[38;5;21mtorch_cross_correlate\u001b[39m(inputs: torch\u001b[38;5;241m.\u001b[39mTensor, filters: torch\u001b[38;5;241m.\u001b[39mTensor) \u001b[38;5;241m-\u001b[39m\u001b[38;5;241m>\u001b[39m torch\u001b[38;5;241m.\u001b[39mTensor:\n\u001b[0;32m----> 6\u001b[0m     \u001b[38;5;28;01mreturn\u001b[39;00m \u001b[43mconv2d\u001b[49m\u001b[43m(\u001b[49m\u001b[43minputs\u001b[49m\u001b[43m,\u001b[49m\u001b[43m \u001b[49m\u001b[43mweight\u001b[49m\u001b[38;5;241;43m=\u001b[39;49m\u001b[43mfilters\u001b[49m\u001b[43m,\u001b[49m\u001b[43m \u001b[49m\u001b[43mstride\u001b[49m\u001b[38;5;241;43m=\u001b[39;49m\u001b[43m(\u001b[49m\u001b[38;5;241;43m1\u001b[39;49m\u001b[43m,\u001b[49m\u001b[43m \u001b[49m\u001b[38;5;241;43m1\u001b[39;49m\u001b[43m)\u001b[49m\u001b[43m,\u001b[49m\u001b[43m \u001b[49m\u001b[43mpadding\u001b[49m\u001b[38;5;241;43m=\u001b[39;49m\u001b[38;5;124;43m'\u001b[39;49m\u001b[38;5;124;43msame\u001b[39;49m\u001b[38;5;124;43m'\u001b[39;49m\u001b[43m)\u001b[49m\n",
      "\u001b[0;31mRuntimeError\u001b[0m: Given groups=1, weight of size [5, 2, 1, 1], expected input[2, 3, 5, 5] to have 2 channels, but got 3 channels instead"
     ]
    }
   ],
   "source": [
    "torch_hyp_mlr(embs, c, P_mlr, A_mlr, )\n",
    "\n",
    "# logits.sum().backward()\n",
    "# hyperbolic_optimizer.step()\n",
    "# torch.linalg.norm(P_mlr, dim=1)"
   ]
  }
 ],
 "metadata": {
  "kernelspec": {
   "display_name": "Python 3 (ipykernel)",
   "language": "python",
   "name": "python3"
  },
  "language_info": {
   "codemirror_mode": {
    "name": "ipython",
    "version": 3
   },
   "file_extension": ".py",
   "mimetype": "text/x-python",
   "name": "python",
   "nbconvert_exporter": "python",
   "pygments_lexer": "ipython3",
   "version": "3.10.9"
  }
 },
 "nbformat": 4,
 "nbformat_minor": 5
}
